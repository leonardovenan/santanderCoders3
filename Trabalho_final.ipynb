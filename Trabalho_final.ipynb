{
 "cells": [
  {
   "cell_type": "code",
   "execution_count": 1,
   "metadata": {},
   "outputs": [],
   "source": [
    "import pandas as pd\n",
    "import matplotlib.pyplot as plt"
   ]
  },
  {
   "attachments": {},
   "cell_type": "markdown",
   "metadata": {},
   "source": [
    "## Gráficos que mostram a evolução da temperatura média entre as cidades"
   ]
  },
  {
   "cell_type": "code",
   "execution_count": 2,
   "metadata": {},
   "outputs": [
    {
     "name": "stdout",
     "output_type": "stream",
     "text": [
      "           dt  AverageTemperature  AverageTemperatureUncertainty   City  \\\n",
      "0  1743-11-01               6.068                          1.737  Århus   \n",
      "1  1743-12-01                 NaN                            NaN  Århus   \n",
      "2  1744-01-01                 NaN                            NaN  Århus   \n",
      "3  1744-02-01                 NaN                            NaN  Århus   \n",
      "4  1744-03-01                 NaN                            NaN  Århus   \n",
      "\n",
      "   Country Latitude Longitude  \n",
      "0  Denmark   57.05N    10.33E  \n",
      "1  Denmark   57.05N    10.33E  \n",
      "2  Denmark   57.05N    10.33E  \n",
      "3  Denmark   57.05N    10.33E  \n",
      "4  Denmark   57.05N    10.33E  \n"
     ]
    }
   ],
   "source": [
    "dados = pd.read_csv(\"GlobalLandTemperaturesByCity.csv\")\n",
    "print(dados.head())"
   ]
  },
  {
   "cell_type": "code",
   "execution_count": 3,
   "metadata": {},
   "outputs": [
    {
     "name": "stdout",
     "output_type": "stream",
     "text": [
      "           dt  AverageTemperature  AverageTemperatureUncertainty   City  \\\n",
      "0  1743-11-01               6.068                          1.737  Århus   \n",
      "5  1744-04-01               5.788                          3.624  Århus   \n",
      "6  1744-05-01              10.644                          1.283  Århus   \n",
      "7  1744-06-01              14.051                          1.347  Århus   \n",
      "8  1744-07-01              16.082                          1.396  Århus   \n",
      "\n",
      "   Country Latitude Longitude  \n",
      "0  Denmark   57.05N    10.33E  \n",
      "5  Denmark   57.05N    10.33E  \n",
      "6  Denmark   57.05N    10.33E  \n",
      "7  Denmark   57.05N    10.33E  \n",
      "8  Denmark   57.05N    10.33E  \n"
     ]
    }
   ],
   "source": [
    "## Limpeza dos dados utilizando o método .dropna() para remover linhas com valores ausentes \n",
    "dados.dropna(inplace=True)\n",
    "\n",
    "print(dados.head())\n",
    "\n"
   ]
  },
  {
   "cell_type": "code",
   "execution_count": 4,
   "metadata": {},
   "outputs": [
    {
     "data": {
      "text/html": [
       "<div>\n",
       "<style scoped>\n",
       "    .dataframe tbody tr th:only-of-type {\n",
       "        vertical-align: middle;\n",
       "    }\n",
       "\n",
       "    .dataframe tbody tr th {\n",
       "        vertical-align: top;\n",
       "    }\n",
       "\n",
       "    .dataframe thead th {\n",
       "        text-align: right;\n",
       "    }\n",
       "</style>\n",
       "<table border=\"1\" class=\"dataframe\">\n",
       "  <thead>\n",
       "    <tr style=\"text-align: right;\">\n",
       "      <th></th>\n",
       "      <th></th>\n",
       "      <th>AverageTemperature</th>\n",
       "      <th>AverageTemperatureUncertainty</th>\n",
       "    </tr>\n",
       "    <tr>\n",
       "      <th>year</th>\n",
       "      <th>City</th>\n",
       "      <th></th>\n",
       "      <th></th>\n",
       "    </tr>\n",
       "  </thead>\n",
       "  <tbody>\n",
       "    <tr>\n",
       "      <th rowspan=\"5\" valign=\"top\">1743</th>\n",
       "      <th>A Coruña</th>\n",
       "      <td>10.779</td>\n",
       "      <td>1.942</td>\n",
       "    </tr>\n",
       "    <tr>\n",
       "      <th>Aachen</th>\n",
       "      <td>6.425</td>\n",
       "      <td>1.628</td>\n",
       "    </tr>\n",
       "    <tr>\n",
       "      <th>Aalborg</th>\n",
       "      <td>6.068</td>\n",
       "      <td>1.737</td>\n",
       "    </tr>\n",
       "    <tr>\n",
       "      <th>Aberdeen</th>\n",
       "      <td>8.758</td>\n",
       "      <td>1.886</td>\n",
       "    </tr>\n",
       "    <tr>\n",
       "      <th>Aix En Provence</th>\n",
       "      <td>7.478</td>\n",
       "      <td>1.866</td>\n",
       "    </tr>\n",
       "  </tbody>\n",
       "</table>\n",
       "</div>"
      ],
      "text/plain": [
       "                      AverageTemperature  AverageTemperatureUncertainty\n",
       "year City                                                              \n",
       "1743 A Coruña                     10.779                          1.942\n",
       "     Aachen                        6.425                          1.628\n",
       "     Aalborg                       6.068                          1.737\n",
       "     Aberdeen                      8.758                          1.886\n",
       "     Aix En Provence               7.478                          1.866"
      ]
     },
     "execution_count": 4,
     "metadata": {},
     "output_type": "execute_result"
    }
   ],
   "source": [
    "# Convertendo a coluna \"dt\" para dados de data\n",
    "dados['dt'] = pd.to_datetime(dados['dt'])\n",
    "\n",
    "# Extraindo o ano da coluna \"dt\" para realizarmos uma análise por ano\n",
    "dados[\"year\"] = dados[\"dt\"].dt.year\n",
    "\n",
    "## Aqui começa a análise exploratória de dados para descobrir padrões e tendências, primeiro\n",
    "## agrupando as temperaturas por ano e cidade\n",
    "dados_agrupados = dados.groupby([\"year\",\"City\"]).mean()\n",
    "\n",
    "dados_agrupados.head()"
   ]
  },
  {
   "cell_type": "code",
   "execution_count": 5,
   "metadata": {},
   "outputs": [
    {
     "name": "stdout",
     "output_type": "stream",
     "text": [
      "['Århus' 'Çorlu' 'Çorum' ... 'Zurich' 'Zuwarah' 'Zwolle']\n"
     ]
    }
   ],
   "source": [
    "## Vamos verificar quais ciadades podemos checar dentro desse conjunto de dados\n",
    "cidades = dados['City'].unique()\n",
    "print(cidades)"
   ]
  },
  {
   "cell_type": "code",
   "execution_count": 6,
   "metadata": {},
   "outputs": [
    {
     "data": {
      "image/png": "[encoded data removed]",
      "text/plain": [
       "<Figure size 432x288 with 1 Axes>"
      ]
     },
     "metadata": {
      "needs_background": "light"
     },
     "output_type": "display_data"
    }
   ],
   "source": [
    "## Por fim, utilizaremos o matplotib para plotar os gráficos a partir dos dados agrupados.\n",
    "## Esse gráfico mostra a evolução da temperatura média por ano em uma cidade específica.\n",
    "\n",
    "dados_cidade = dados_agrupados.loc[(slice(None), \"Zurich\"), :]\n",
    "dados_cidade = dados_cidade.reset_index(level=0)\n",
    "\n",
    "plt.plot(dados_cidade[\"year\"], dados_cidade[\"AverageTemperature\"])\n",
    "plt.xlabel(\"Ano\")\n",
    "plt.ylabel(\"Temperatura média (Celsius)\")\n",
    "plt.title(\"Temperatura média de Zurich\")\n",
    "plt.show()\n"
   ]
  },
  {
   "attachments": {},
   "cell_type": "markdown",
   "metadata": {},
   "source": [
    "#### Podemos gerar uma figura para cada cidade em \"cidades\", deixarei essa célula como Markdown\n",
    "\n",
    "``` Python\n",
    "def Grafico(cidade):\n",
    "    dados_cidade = dados_agrupados.loc[(slice(None), cidade), :]\n",
    "    dados_cidade = dados_cidade.reset_index(level=0)\n",
    "\n",
    "    plt.plot(dados_cidade[\"year\"], dados_cidade[\"AverageTemperature\"])\n",
    "    plt.xlabel(\"Ano\")\n",
    "    plt.ylabel(\"Temperatura média (Celsius)\")\n",
    "    plt.title(\"Temperatura média de \"+ cidade)\n",
    "    plt.show()\n",
    "\n",
    "\n",
    "for city in cidades:\n",
    "    Grafico(city) "
   ]
  },
  {
   "attachments": {},
   "cell_type": "markdown",
   "metadata": {},
   "source": [
    "## Análise de variação de temperatura entre as cidades"
   ]
  },
  {
   "cell_type": "code",
   "execution_count": 58,
   "metadata": {},
   "outputs": [],
   "source": [
    "## Queremos calcular a diferença de temperatura entre o ano mais recente e o ano mais antigo para cada \n",
    "## cidade. Para fazer isso, vamos utilizar o método .agg() do pandas para calcular a diferença entre o \n",
    "## valor mínimo e máximo da temperatura para cada cidade.\n",
    "\n",
    "dados_agrupados = dados.groupby([\"City\"]).agg({\"year\": [\"min\",\"max\"], \"AverageTemperature\": [\"min\",\"max\"]})\n",
    "\n"
   ]
  },
  {
   "cell_type": "code",
   "execution_count": 59,
   "metadata": {},
   "outputs": [],
   "source": [
    "## Vamos calcular a diferença entre a temperatura mínima e máxima para cada cidade.\n",
    "dados_agrupados[\"dif\"] = dados_agrupados[\"AverageTemperature\"][\"max\"] - dados_agrupados[\"AverageTemperature\"][\"min\"]\n"
   ]
  },
  {
   "cell_type": "code",
   "execution_count": 60,
   "metadata": {},
   "outputs": [],
   "source": [
    "## Vamos ordenar o dataframe pelo valor da diferença em ordem crescente\n",
    "dados_agrupados.sort_values(by=\"dif\",ascending=False,inplace=True)"
   ]
  },
  {
   "cell_type": "code",
   "execution_count": 61,
   "metadata": {},
   "outputs": [],
   "source": [
    "## Selecionamos as cidades com maiores diferenças de temperaturas\n",
    "top_cities = dados_agrupados.head(10)"
   ]
  },
  {
   "cell_type": "code",
   "execution_count": 64,
   "metadata": {},
   "outputs": [
    {
     "data": {
      "image/png": "[encoded data removed]",
      "text/plain": [
       "<Figure size 432x288 with 1 Axes>"
      ]
     },
     "metadata": {
      "needs_background": "light"
     },
     "output_type": "display_data"
    }
   ],
   "source": [
    "## Por fim, plotamos um gráfico de barras para analisar essa diferença\n",
    "plt.bar(top_cities.index, top_cities[\"dif\"], width = 0.8, align = 'edge')\n",
    "plt.xlabel(\"Cidade\")\n",
    "plt.ylabel(\"Diferença de temperatura (Celsius)\")\n",
    "plt.title(\"Cidades com a maior diferença de temperatura\")\n",
    "plt.ylim(40,65)\n",
    "plt.xticks(rotation=45)\n",
    "plt.show()"
   ]
  },
  {
   "cell_type": "code",
   "execution_count": null,
   "metadata": {},
   "outputs": [],
   "source": []
  }
 ],
 "metadata": {
  "kernelspec": {
   "display_name": "base",
   "language": "python",
   "name": "python3"
  },
  "language_info": {
   "codemirror_mode": {
    "name": "ipython",
    "version": 3
   },
   "file_extension": ".py",
   "mimetype": "text/x-python",
   "name": "python",
   "nbconvert_exporter": "python",
   "pygments_lexer": "ipython3",
   "version": "3.9.12 (main, Apr  4 2022, 05:22:27) [MSC v.1916 64 bit (AMD64)]"
  },
  "orig_nbformat": 4,
  "vscode": {
   "interpreter": {
    "hash": "a063a9d6d4095dba70f7d4a438ef288e94ffec589b0525f5b20de998ec61033a"
   }
  }
 },
 "nbformat": 4,
 "nbformat_minor": 2
}
