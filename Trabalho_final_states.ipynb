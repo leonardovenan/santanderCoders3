{
 "cells": [
  {
   "cell_type": "code",
   "execution_count": 2,
   "metadata": {},
   "outputs": [],
   "source": [
    "import pandas as pd\n",
    "import matplotlib.pyplot as plt"
   ]
  },
  {
   "attachments": {},
   "cell_type": "markdown",
   "metadata": {},
   "source": [
    "## Gráficos que mostram a evolução da temperatura média entre as cidades"
   ]
  },
  {
   "cell_type": "code",
   "execution_count": 3,
   "metadata": {},
   "outputs": [
    {
     "name": "stdout",
     "output_type": "stream",
     "text": [
      "           dt  AverageTemperature  AverageTemperatureUncertainty State Country\n",
      "0  1855-05-01              25.544                          1.171  Acre  Brazil\n",
      "1  1855-06-01              24.228                          1.103  Acre  Brazil\n",
      "2  1855-07-01              24.371                          1.044  Acre  Brazil\n",
      "3  1855-08-01              25.427                          1.073  Acre  Brazil\n",
      "4  1855-09-01              25.675                          1.014  Acre  Brazil\n"
     ]
    }
   ],
   "source": [
    "dados = pd.read_csv(\"GlobalLandTemperaturesByState.csv\")\n",
    "print(dados.head())"
   ]
  },
  {
   "cell_type": "code",
   "execution_count": 3,
   "metadata": {},
   "outputs": [
    {
     "name": "stdout",
     "output_type": "stream",
     "text": [
      "           dt  AverageTemperature  AverageTemperatureUncertainty State Country\n",
      "0  1855-05-01              25.544                          1.171  Acre  Brazil\n",
      "1  1855-06-01              24.228                          1.103  Acre  Brazil\n",
      "2  1855-07-01              24.371                          1.044  Acre  Brazil\n",
      "3  1855-08-01              25.427                          1.073  Acre  Brazil\n",
      "4  1855-09-01              25.675                          1.014  Acre  Brazil\n"
     ]
    }
   ],
   "source": [
    "## Limpeza dos dados utilizando o método .dropna() para remover linhas com valores ausentes \n",
    "dados.dropna(inplace=True)\n",
    "\n",
    "print(dados.head())\n",
    "\n"
   ]
  },
  {
   "cell_type": "code",
   "execution_count": 16,
   "metadata": {},
   "outputs": [
    {
     "data": {
      "text/html": [
       "<div>\n",
       "<style scoped>\n",
       "    .dataframe tbody tr th:only-of-type {\n",
       "        vertical-align: middle;\n",
       "    }\n",
       "\n",
       "    .dataframe tbody tr th {\n",
       "        vertical-align: top;\n",
       "    }\n",
       "\n",
       "    .dataframe thead th {\n",
       "        text-align: right;\n",
       "    }\n",
       "</style>\n",
       "<table border=\"1\" class=\"dataframe\">\n",
       "  <thead>\n",
       "    <tr style=\"text-align: right;\">\n",
       "      <th></th>\n",
       "      <th></th>\n",
       "      <th>AverageTemperature</th>\n",
       "      <th>AverageTemperatureUncertainty</th>\n",
       "      <th>month</th>\n",
       "    </tr>\n",
       "    <tr>\n",
       "      <th>year</th>\n",
       "      <th>State</th>\n",
       "      <th></th>\n",
       "      <th></th>\n",
       "      <th></th>\n",
       "    </tr>\n",
       "  </thead>\n",
       "  <tbody>\n",
       "    <tr>\n",
       "      <th rowspan=\"5\" valign=\"top\">1743</th>\n",
       "      <th>Adygey</th>\n",
       "      <td>4.537</td>\n",
       "      <td>2.943</td>\n",
       "      <td>11.5</td>\n",
       "    </tr>\n",
       "    <tr>\n",
       "      <th>Alabama</th>\n",
       "      <td>10.722</td>\n",
       "      <td>2.898</td>\n",
       "      <td>11.5</td>\n",
       "    </tr>\n",
       "    <tr>\n",
       "      <th>Arkhangel'Sk</th>\n",
       "      <td>-8.008</td>\n",
       "      <td>4.031</td>\n",
       "      <td>11.5</td>\n",
       "    </tr>\n",
       "    <tr>\n",
       "      <th>Belgorod</th>\n",
       "      <td>-0.910</td>\n",
       "      <td>3.465</td>\n",
       "      <td>11.5</td>\n",
       "    </tr>\n",
       "    <tr>\n",
       "      <th>Bryansk</th>\n",
       "      <td>-0.707</td>\n",
       "      <td>2.956</td>\n",
       "      <td>11.5</td>\n",
       "    </tr>\n",
       "  </tbody>\n",
       "</table>\n",
       "</div>"
      ],
      "text/plain": [
       "                   AverageTemperature  AverageTemperatureUncertainty  month\n",
       "year State                                                                 \n",
       "1743 Adygey                     4.537                          2.943   11.5\n",
       "     Alabama                   10.722                          2.898   11.5\n",
       "     Arkhangel'Sk              -8.008                          4.031   11.5\n",
       "     Belgorod                  -0.910                          3.465   11.5\n",
       "     Bryansk                   -0.707                          2.956   11.5"
      ]
     },
     "execution_count": 16,
     "metadata": {},
     "output_type": "execute_result"
    }
   ],
   "source": [
    "# Convertendo a coluna \"dt\" para dados de data\n",
    "dados['dt'] = pd.to_datetime(dados['dt'])\n",
    "\n",
    "# Extraindo o ano da coluna \"dt\" para realizarmos uma análise por ano\n",
    "dados[\"year\"] = dados[\"dt\"].dt.year\n",
    "\n",
    "# Extraindo o mês da coluna \"dt\" para realizarmos uma análise por mês\n",
    "dados[\"month\"] = dados[\"dt\"].dt.month\n",
    "\n",
    "## Aqui começa a análise exploratória de dados para descobrir padrões e tendências, primeiro\n",
    "## agrupando as temperaturas por ano e cidade\n",
    "dados_agrupados = dados.groupby([\"year\",\"State\"]).mean()\n",
    "\n",
    "dados_agrupados.head()"
   ]
  },
  {
   "cell_type": "code",
   "execution_count": 17,
   "metadata": {},
   "outputs": [
    {
     "name": "stdout",
     "output_type": "stream",
     "text": [
      "['Acre' 'Adygey' 'Aga Buryat' 'Alabama' 'Alagoas' 'Alaska' 'Alberta'\n",
      " 'Altay' 'Amazonas' 'Amur' 'Andaman And Nicobar' 'Andhra Pradesh' 'Anhui'\n",
      " 'Arizona' 'Arkansas' \"Arkhangel'Sk\" 'Arunachal Pradesh' 'Assam'\n",
      " \"Astrakhan'\" 'Australian Capital Territory' 'Bahia' 'Bashkortostan'\n",
      " 'Beijing' 'Belgorod' 'Bihar' 'British Columbia' 'Bryansk' 'Buryat'\n",
      " 'California' 'Chandigarh' 'Chechnya' 'Chelyabinsk' 'Chhattisgarh' 'Chita'\n",
      " 'Chongqing' 'Chukot' 'Chuvash' 'City Of St. Petersburg' 'Colorado'\n",
      " 'Connecticut' 'Dadra And Nagar Haveli' 'Dagestan' 'Daman And Diu'\n",
      " 'Delaware' 'Delhi' 'District Of Columbia' 'Distrito Federal' 'Evenk'\n",
      " 'Florida' 'Fujian' 'Gansu' 'Georgia (State)' 'Goa' 'Gorno Altay'\n",
      " 'Guangdong' 'Guangxi' 'Guizhou' 'Gujarat' 'Hainan' 'Haryana' 'Hawaii'\n",
      " 'Hebei' 'Heilongjiang' 'Henan' 'Himachal Pradesh' 'Hubei' 'Hunan' 'Idaho'\n",
      " 'Illinois' 'Indiana' 'Ingush' 'Iowa' 'Irkutsk' 'Ivanovo'\n",
      " 'Jammu And Kashmir' 'Jharkhand' 'Jiangsu' 'Jiangxi' 'Jilin'\n",
      " 'Kabardin Balkar' 'Kaliningrad' 'Kalmyk' 'Kaluga' 'Kamchatka' 'Kansas'\n",
      " 'Karachay Cherkess' 'Karelia' 'Karnataka' 'Kemerovo' 'Kentucky' 'Kerala'\n",
      " 'Khabarovsk' 'Khakass' 'Khanty Mansiy' 'Kirov' 'Komi' 'Komi Permyak'\n",
      " 'Koryak' 'Kostroma' 'Krasnodar' 'Krasnoyarsk' 'Kurgan' 'Kursk'\n",
      " 'Leningrad' 'Liaoning' 'Lipetsk' 'Louisiana' 'Madhya Pradesh'\n",
      " 'Maga Buryatdan' 'Maharashtra' 'Maine' 'Manipur' 'Manitoba' 'Mariy El'\n",
      " 'Maryland' 'Massachusetts' 'Mato Grosso' 'Mato Grosso Do Sul' 'Meghalaya'\n",
      " 'Michigan' 'Minas Gerais' 'Minnesota' 'Mississippi' 'Missouri' 'Mizoram'\n",
      " 'Montana' 'Mordovia' 'Moscow City' 'Moskva' 'Murmansk' 'Nagaland'\n",
      " 'Nebraska' 'Nei Mongol' 'Nenets' 'Nevada' 'New Brunswick' 'New Hampshire'\n",
      " 'New Jersey' 'New Mexico' 'New South Wales' 'New York'\n",
      " 'Newfoundland And Labrador' 'Ningxia Hui' 'Nizhegorod' 'North Carolina'\n",
      " 'North Dakota' 'North Ossetia' 'Northern Territory'\n",
      " 'Northwest Territories' 'Nova Scotia' 'Novgorod' 'Novosibirsk' 'Nunavut'\n",
      " 'Ohio' 'Oklahoma' 'Omsk' 'Ontario' 'Oregon' 'Orel' 'Orenburg' 'Orissa'\n",
      " 'Pennsylvania' 'Penza' \"Perm'\" 'Pernambuco' \"Primor'Ye\"\n",
      " 'Prince Edward Island' 'Pskov' 'Puducherry' 'Punjab' 'Qinghai'\n",
      " 'Queensland' 'Rajasthan' 'Rhode Island' 'Rio De Janeiro'\n",
      " 'Rio Grande Do Norte' 'Rio Grande Do Sul' 'Roraima' 'Rostov' \"Ryazan'\"\n",
      " 'Sakha' 'Sakhalin' 'Samara' 'Santa Catarina' 'Saratov' 'Saskatchewan'\n",
      " 'Sergipe' 'Shaanxi' 'Shandong' 'Shanghai' 'Shanxi' 'Sichuan' 'Sikkim'\n",
      " 'Smolensk' 'South Australia' 'South Carolina' 'South Dakota' \"Stavropol'\"\n",
      " 'Sverdlovsk' 'Tambov' 'Tamil Nadu' 'Tasmania' 'Tatarstan' 'Taymyr'\n",
      " 'Tennessee' 'Texas' 'Tianjin' 'Tocantins' 'Tomsk' 'Tripura' 'Tula' 'Tuva'\n",
      " \"Tver'\" \"Tyumen'\" 'Udmurt' \"Ul'Yanovsk\" 'Ust Orda Buryat' 'Utah'\n",
      " 'Uttar Pradesh' 'Uttaranchal' 'Vermont' 'Victoria' 'Virginia' 'Vladimir'\n",
      " 'Volgograd' 'Vologda' 'Voronezh' 'Washington' 'West Bengal'\n",
      " 'West Virginia' 'Western Australia' 'Wisconsin' 'Wyoming'\n",
      " 'Xinjiang Uygur' 'Xizang' 'Yamal Nenets' \"Yaroslavl'\" 'Yevrey' 'Yukon'\n",
      " 'Yunnan' 'Zhejiang']\n"
     ]
    }
   ],
   "source": [
    "## Vamos verificar quais estados podemos checar dentro desse conjunto de dados\n",
    "estados = dados['State'].unique()\n",
    "print(estados)"
   ]
  },
  {
   "cell_type": "code",
   "execution_count": 22,
   "metadata": {},
   "outputs": [
    {
     "data": {
      "image/png": "[encoded data removed]",
      "text/plain": [
       "<Figure size 432x288 with 1 Axes>"
      ]
     },
     "metadata": {
      "needs_background": "light"
     },
     "output_type": "display_data"
    }
   ],
   "source": [
    "## Por fim, utilizaremos o matplotib para plotar os gráficos a partir dos dados agrupados.\n",
    "## Esse gráfico mostra a evolução da temperatura média por ano em uma cidade espec\n",
    "def Grafico(localidade):\n",
    "    dados_local = dados_agrupados.loc[(slice(None), localidade), :]\n",
    "    dados_local = dados_local.reset_index(level=0)\n",
    "\n",
    "    plt.plot(dados_local[\"year\"], dados_local[\"AverageTemperature\"])\n",
    "    plt.xlabel(\"Ano\")\n",
    "    plt.ylabel(\"Temperatura média (Celsius)\")\n",
    "    plt.title(\"Temperatura média de \"+ localidade)\n",
    "    plt.show()\n",
    "    \n",
    "Grafico(\"West Virginia\")"
   ]
  },
  {
   "attachments": {},
   "cell_type": "markdown",
   "metadata": {},
   "source": [
    "## Análise de variação de temperatura entre as cidades"
   ]
  },
  {
   "cell_type": "code",
   "execution_count": 58,
   "metadata": {},
   "outputs": [],
   "source": [
    "## Queremos calcular a diferença de temperatura entre o ano mais recente e o ano mais antigo para cada \n",
    "## cidade. Para fazer isso, vamos utilizar o método .agg() do pandas para calcular a diferença entre o \n",
    "## valor mínimo e máximo da temperatura para cada cidade.\n",
    "\n",
    "dados_agrupados = dados.groupby([\"State\"]).agg({\"year\": [\"min\",\"max\"], \"AverageTemperature\": [\"min\",\"max\"]})\n",
    "\n"
   ]
  },
  {
   "cell_type": "code",
   "execution_count": 59,
   "metadata": {},
   "outputs": [],
   "source": [
    "## Vamos calcular a diferença entre a temperatura mínima e máxima para cada cidade.\n",
    "dados_agrupados[\"dif\"] = dados_agrupados[\"AverageTemperature\"][\"max\"] - dados_agrupados[\"AverageTemperature\"][\"min\"]\n"
   ]
  },
  {
   "cell_type": "code",
   "execution_count": 60,
   "metadata": {},
   "outputs": [],
   "source": [
    "## Vamos ordenar o dataframe pelo valor da diferença em ordem crescente\n",
    "dados_agrupados.sort_values(by=\"dif\",ascending=False,inplace=True)"
   ]
  },
  {
   "cell_type": "code",
   "execution_count": 61,
   "metadata": {},
   "outputs": [],
   "source": [
    "## Selecionamos as cidades com maiores diferenças de temperaturas\n",
    "top_cities = dados_agrupados.head(10)"
   ]
  },
  {
   "cell_type": "code",
   "execution_count": 64,
   "metadata": {},
   "outputs": [
    {
     "data": {
      "image/png": "[encoded data removed]",
      "text/plain": [
       "<Figure size 432x288 with 1 Axes>"
      ]
     },
     "metadata": {
      "needs_background": "light"
     },
     "output_type": "display_data"
    }
   ],
   "source": [
    "## Por fim, plotamos um gráfico de barras para analisar essa diferença\n",
    "plt.bar(top_cities.index, top_cities[\"dif\"], width = 0.8, align = 'edge')\n",
    "plt.xlabel(\"Cidade\")\n",
    "plt.ylabel(\"Diferença de temperatura (Celsius)\")\n",
    "plt.title(\"Cidades com a maior diferença de temperatura\")\n",
    "plt.ylim(40,65)\n",
    "plt.xticks(rotation=45)\n",
    "plt.show()"
   ]
  },
  {
   "cell_type": "code",
   "execution_count": null,
   "metadata": {},
   "outputs": [],
   "source": []
  }
 ],
 "metadata": {
  "kernelspec": {
   "display_name": "base",
   "language": "python",
   "name": "python3"
  },
  "language_info": {
   "codemirror_mode": {
    "name": "ipython",
    "version": 3
   },
   "file_extension": ".py",
   "mimetype": "text/x-python",
   "name": "python",
   "nbconvert_exporter": "python",
   "pygments_lexer": "ipython3",
   "version": "3.9.12"
  },
  "orig_nbformat": 4,
  "vscode": {
   "interpreter": {
    "hash": "a063a9d6d4095dba70f7d4a438ef288e94ffec589b0525f5b20de998ec61033a"
   }
  }
 },
 "nbformat": 4,
 "nbformat_minor": 2
}
